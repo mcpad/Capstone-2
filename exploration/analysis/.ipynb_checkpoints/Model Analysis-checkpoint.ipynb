{
 "cells": [
  {
   "cell_type": "code",
   "execution_count": 1,
   "metadata": {},
   "outputs": [],
   "source": [
    "#CNN and PCA, t-SNE"
   ]
  },
  {
   "cell_type": "code",
   "execution_count": 2,
   "metadata": {},
   "outputs": [
    {
     "name": "stderr",
     "output_type": "stream",
     "text": [
      "Using TensorFlow backend.\n"
     ]
    }
   ],
   "source": [
    "from keras.models import Sequential\n",
    "from keras.layers import Conv2D\n",
    "from keras.layers import MaxPooling2D\n",
    "from keras.layers import Flatten\n",
    "from keras.layers import Dense\n",
    "from keras.layers import Dropout\n",
    "from keras.layers.normalization import BatchNormalization\n",
    "from keras.preprocessing.image import ImageDataGenerator\n",
    "\n",
    "from keras.losses import categorical_crossentropy\n",
    "\n",
    "from keras.optimizers import Adam\n",
    "\n",
    "import numpy as np\n",
    "\n",
    "import matplotlib.pyplot as plt\n",
    "\n",
    "from sklearn.metrics import confusion_matrix\n",
    "\n",
    "import pickle"
   ]
  },
  {
   "cell_type": "code",
   "execution_count": 3,
   "metadata": {},
   "outputs": [],
   "source": [
    "trainX = np.load('../data/trainX2.npy')\n",
    "testX = np.load('../data/testX2.npy')\n",
    "trainY = np.load('../data/trainY2.npy')\n",
    "testY = np.load('../data/testY2.npy')"
   ]
  },
  {
   "cell_type": "code",
   "execution_count": 4,
   "metadata": {},
   "outputs": [],
   "source": [
    "img_rows, img_cols = 128,128\n",
    "input_shape = (img_rows, img_cols, 1)"
   ]
  },
  {
   "cell_type": "code",
   "execution_count": 5,
   "metadata": {},
   "outputs": [
    {
     "data": {
      "text/plain": [
       "(7000, 150, 100, 3)"
      ]
     },
     "execution_count": 5,
     "metadata": {},
     "output_type": "execute_result"
    }
   ],
   "source": [
    "trainX.shape"
   ]
  },
  {
   "cell_type": "code",
   "execution_count": 6,
   "metadata": {},
   "outputs": [],
   "source": [
    "#trainX = trainX[:,:,:,0]"
   ]
  },
  {
   "cell_type": "code",
   "execution_count": 7,
   "metadata": {},
   "outputs": [],
   "source": [
    "#trainX.shape"
   ]
  },
  {
   "cell_type": "code",
   "execution_count": 8,
   "metadata": {},
   "outputs": [
    {
     "data": {
      "text/plain": [
       "(7000, 21)"
      ]
     },
     "execution_count": 8,
     "metadata": {},
     "output_type": "execute_result"
    }
   ],
   "source": [
    "trainY.shape"
   ]
  },
  {
   "cell_type": "code",
   "execution_count": 9,
   "metadata": {},
   "outputs": [
    {
     "name": "stdout",
     "output_type": "stream",
     "text": [
      "[[1 0 0 ... 0 0 1]\n",
      " [1 0 1 ... 0 0 1]\n",
      " [0 1 0 ... 0 0 0]\n",
      " ...\n",
      " [0 0 1 ... 0 0 1]\n",
      " [0 0 0 ... 1 0 1]\n",
      " [0 0 0 ... 0 0 0]]\n"
     ]
    }
   ],
   "source": [
    "print(trainY)"
   ]
  },
  {
   "cell_type": "code",
   "execution_count": 10,
   "metadata": {},
   "outputs": [],
   "source": [
    "#trainX = trainX.reshape(trainX.shape[0], img_rows, img_cols, 1)"
   ]
  },
  {
   "cell_type": "code",
   "execution_count": 11,
   "metadata": {},
   "outputs": [],
   "source": [
    "trainX = trainX.astype('float32')"
   ]
  },
  {
   "cell_type": "code",
   "execution_count": 12,
   "metadata": {},
   "outputs": [],
   "source": [
    "#testX = testX[:,:,:,0]\n",
    "#testX.shape"
   ]
  },
  {
   "cell_type": "code",
   "execution_count": 13,
   "metadata": {},
   "outputs": [],
   "source": [
    "#testX = testX.reshape(testX.shape[0], img_rows, img_cols, 1)\n",
    "testX = testX.astype('float32')"
   ]
  },
  {
   "cell_type": "code",
   "execution_count": 14,
   "metadata": {},
   "outputs": [
    {
     "name": "stdout",
     "output_type": "stream",
     "text": [
      "MultiLabelBinarizer(classes=['hat', 'pink', 'blazer', 'white', 'red', 'coat', 'dress', 'shirt', 'skirt', 'shoes', 'sweater', 'jeans', 'boots', 'gray', 'bag', 'brown', 'navy', 'blue', 'shorts', 'jacket', 'black'],\n",
      "          sparse_output=False)\n"
     ]
    }
   ],
   "source": [
    "mlb = pickle.load(open('Labelbin2', 'rb'))\n",
    "print(mlb)\n",
    "class_names = list(mlb.classes_)"
   ]
  },
  {
   "cell_type": "code",
   "execution_count": 15,
   "metadata": {},
   "outputs": [
    {
     "name": "stdout",
     "output_type": "stream",
     "text": [
      "WARNING:tensorflow:From /home/maia/anaconda3/lib/python3.5/site-packages/tensorflow/python/framework/op_def_library.py:263: colocate_with (from tensorflow.python.framework.ops) is deprecated and will be removed in a future version.\n",
      "Instructions for updating:\n",
      "Colocations handled automatically by placer.\n",
      "WARNING:tensorflow:From /home/maia/anaconda3/lib/python3.5/site-packages/keras/backend/tensorflow_backend.py:3019: calling dropout (from tensorflow.python.ops.nn_ops) with keep_prob is deprecated and will be removed in a future version.\n",
      "Instructions for updating:\n",
      "Please use `rate` instead of `keep_prob`. Rate should be set to `rate = 1 - keep_prob`.\n",
      "WARNING:tensorflow:From /home/maia/anaconda3/lib/python3.5/site-packages/keras/backend/tensorflow_backend.py:1264: calling reduce_prod_v1 (from tensorflow.python.ops.math_ops) with keep_dims is deprecated and will be removed in a future version.\n",
      "Instructions for updating:\n",
      "keep_dims is deprecated, use keepdims instead\n"
     ]
    }
   ],
   "source": [
    "image_dims = (150,100,3)\n",
    "epochs = 5\n",
    "batch = 256\n",
    "num_classes = len(mlb.classes_)\n",
    "\n",
    "aug = ImageDataGenerator(rotation_range=25, width_shift_range=0.1, \n",
    "                         height_shift_range=0.1, shear_range=0.2, zoom_range=0.2,\n",
    "                         horizontal_flip=True, fill_mode=\"nearest\")\n",
    "\n",
    "model = Sequential()\n",
    "inputShape = image_dims\n",
    "chanDim = -1\n",
    "\n",
    "# CONV => RELU => POOL\n",
    "model.add(Conv2D(32, (4, 4), padding=\"same\",input_shape=inputShape,activation='relu'))\n",
    "model.add(BatchNormalization(axis=chanDim))\n",
    "model.add(MaxPooling2D(pool_size=(3, 3)))\n",
    "model.add(Dropout(0.25))\n",
    "        \n",
    "# (CONV => RELU) * 2 => POOL\n",
    "model.add(Conv2D(32, (4, 4), padding=\"same\",activation='relu'))\n",
    "model.add(BatchNormalization(axis=chanDim))\n",
    "model.add(Conv2D(32, (4, 4),activation='relu', padding=\"same\"))\n",
    "model.add(BatchNormalization(axis=chanDim))\n",
    "model.add(MaxPooling2D(pool_size=(2, 2)))\n",
    "model.add(Dropout(0.25))\n",
    " \n",
    "# (CONV => RELU) * 2 => POOL\n",
    "model.add(Conv2D(64, (4, 4),activation='relu', padding=\"same\"))\n",
    "model.add(BatchNormalization(axis=chanDim))\n",
    "model.add(Conv2D(64, (4, 4),activation='relu', padding=\"same\"))\n",
    "model.add(BatchNormalization(axis=chanDim))\n",
    "model.add(MaxPooling2D(pool_size=(2, 2)))\n",
    "model.add(Dropout(0.25))\n",
    "        \n",
    "# first (and only) set of FC => RELU layers\n",
    "model.add(Flatten())\n",
    "model.add(Dense(128, activation='relu'))\n",
    "model.add(BatchNormalization())\n",
    "model.add(Dropout(0.5))\n",
    " \n",
    "model.add(Dense(num_classes, activation='sigmoid'))\n"
   ]
  },
  {
   "cell_type": "code",
   "execution_count": 16,
   "metadata": {},
   "outputs": [
    {
     "name": "stdout",
     "output_type": "stream",
     "text": [
      "[INFO] training network...\n",
      "WARNING:tensorflow:From /home/maia/anaconda3/lib/python3.5/site-packages/tensorflow/python/ops/math_ops.py:3066: to_int32 (from tensorflow.python.ops.math_ops) is deprecated and will be removed in a future version.\n",
      "Instructions for updating:\n",
      "Use tf.cast instead.\n",
      "Epoch 1/5\n",
      "27/27 [==============================] - 245s 9s/step - loss: 0.8748 - acc: 0.5151 - val_loss: 0.7299 - val_acc: 0.4616\n",
      "Epoch 2/5\n",
      "27/27 [==============================] - 246s 9s/step - loss: 0.7610 - acc: 0.5504 - val_loss: 0.6783 - val_acc: 0.6115\n",
      "Epoch 3/5\n",
      "27/27 [==============================] - 258s 10s/step - loss: 0.6955 - acc: 0.6089 - val_loss: 0.5876 - val_acc: 0.8000\n",
      "Epoch 4/5\n",
      "27/27 [==============================] - 239s 9s/step - loss: 0.6250 - acc: 0.6965 - val_loss: 0.5366 - val_acc: 0.8164\n",
      "Epoch 5/5\n",
      "27/27 [==============================] - 237s 9s/step - loss: 0.5607 - acc: 0.7659 - val_loss: 0.4861 - val_acc: 0.8170\n"
     ]
    }
   ],
   "source": [
    "model.compile(loss=\"binary_crossentropy\", optimizer='adam', metrics=[\"accuracy\"])\n",
    " \n",
    "# train the network\n",
    "print(\"[INFO] training network...\")\n",
    "H = model.fit_generator(aug.flow(trainX, trainY, batch_size=batch),\n",
    "                        validation_data=(testX, testY),\n",
    "                        steps_per_epoch=len(trainX) // batch,\n",
    "                        epochs=epochs, verbose=1)"
   ]
  },
  {
   "cell_type": "code",
   "execution_count": 17,
   "metadata": {},
   "outputs": [
    {
     "name": "stdout",
     "output_type": "stream",
     "text": [
      "<keras.callbacks.History object at 0x7f9c30aca0b8>\n"
     ]
    }
   ],
   "source": [
    "print(H)"
   ]
  },
  {
   "cell_type": "code",
   "execution_count": 18,
   "metadata": {},
   "outputs": [
    {
     "name": "stdout",
     "output_type": "stream",
     "text": [
      "dict_keys(['val_loss', 'val_acc', 'loss', 'acc'])\n"
     ]
    },
    {
     "data": {
      "image/png": "[encoded data removed]",
      "text/plain": [
       "<Figure size 432x288 with 1 Axes>"
      ]
     },
     "metadata": {},
     "output_type": "display_data"
    },
    {
     "data": {
      "image/png": "[encoded data removed]",
      "text/plain": [
       "<Figure size 432x288 with 1 Axes>"
      ]
     },
     "metadata": {},
     "output_type": "display_data"
    }
   ],
   "source": [
    "print(H.history.keys())\n",
    "# summarize history for accuracy\n",
    "plt.plot(H.history['acc'])\n",
    "plt.plot(H.history['val_acc'])\n",
    "plt.title('model accuracy')\n",
    "plt.ylabel('accuracy')\n",
    "plt.xlabel('epoch')\n",
    "plt.legend(['train', 'test'], loc='upper left')\n",
    "plt.show()\n",
    "# summarize history for loss\n",
    "plt.plot(H.history['loss'])\n",
    "plt.plot(H.history['val_loss'])\n",
    "plt.title('model loss')\n",
    "plt.ylabel('loss')\n",
    "plt.xlabel('epoch')\n",
    "plt.legend(['train', 'test'], loc='upper left')\n",
    "plt.show()"
   ]
  },
  {
   "cell_type": "code",
   "execution_count": 19,
   "metadata": {},
   "outputs": [
    {
     "name": "stdout",
     "output_type": "stream",
     "text": [
      "[[0.15505466 0.21622849 0.2587694  ... 0.2234267  0.31333104 0.5547465 ]\n",
      " [0.28023958 0.22343859 0.25370708 ... 0.23949945 0.27699447 0.38983405]\n",
      " [0.29122624 0.22763073 0.25464267 ... 0.24552956 0.28269255 0.3743602 ]\n",
      " ...\n",
      " [0.26609975 0.2005511  0.23303038 ... 0.24751216 0.28010792 0.41787922]\n",
      " [0.1624848  0.1978088  0.20502746 ... 0.22139752 0.30597734 0.5094181 ]\n",
      " [0.26960105 0.22217149 0.25251117 ... 0.24626583 0.29249233 0.3751228 ]]\n"
     ]
    }
   ],
   "source": [
    "predict = model.predict(testX)\n",
    "print(predict)"
   ]
  },
  {
   "cell_type": "code",
   "execution_count": 20,
   "metadata": {},
   "outputs": [],
   "source": [
    "pred = (predict > 0.1)"
   ]
  },
  {
   "cell_type": "code",
   "execution_count": null,
   "metadata": {},
   "outputs": [],
   "source": []
  },
  {
   "cell_type": "code",
   "execution_count": 21,
   "metadata": {},
   "outputs": [],
   "source": [
    "from sklearn.metrics import classification_report\n",
    "from sklearn.metrics import log_loss\n",
    "from sklearn.metrics import precision_recall_fscore_support"
   ]
  },
  {
   "cell_type": "code",
   "execution_count": 22,
   "metadata": {},
   "outputs": [
    {
     "name": "stdout",
     "output_type": "stream",
     "text": [
      "              precision    recall  f1-score   support\n",
      "\n",
      "         hat       0.11      0.99      0.20       325\n",
      "        pink       0.09      1.00      0.16       262\n",
      "      blazer       0.11      1.00      0.20       327\n",
      "       white       0.23      1.00      0.38       698\n",
      "         red       0.12      1.00      0.22       362\n",
      "        coat       0.09      1.00      0.16       263\n",
      "       dress       0.33      1.00      0.49       982\n",
      "       shirt       0.19      1.00      0.32       567\n",
      "       skirt       0.22      1.00      0.36       665\n",
      "       shoes       0.19      1.00      0.32       565\n",
      "     sweater       0.11      1.00      0.20       341\n",
      "       jeans       0.17      1.00      0.29       507\n",
      "       boots       0.22      1.00      0.36       659\n",
      "        gray       0.13      1.00      0.24       404\n",
      "         bag       0.31      1.00      0.48       941\n",
      "       brown       0.14      1.00      0.25       428\n",
      "        navy       0.10      1.00      0.18       298\n",
      "        blue       0.21      1.00      0.35       643\n",
      "      shorts       0.14      1.00      0.25       435\n",
      "      jacket       0.18      1.00      0.31       543\n",
      "       black       0.43      1.00      0.60      1284\n",
      "\n",
      "   micro avg       0.18      1.00      0.31     11499\n",
      "   macro avg       0.18      1.00      0.30     11499\n",
      "weighted avg       0.22      1.00      0.35     11499\n",
      " samples avg       0.18      0.93      0.29     11499\n",
      "\n"
     ]
    }
   ],
   "source": [
    "print(classification_report(testY, pred, target_names = class_names))"
   ]
  },
  {
   "cell_type": "code",
   "execution_count": 23,
   "metadata": {},
   "outputs": [
    {
     "data": {
      "text/plain": [
       "11.712757753226372"
      ]
     },
     "execution_count": 23,
     "metadata": {},
     "output_type": "execute_result"
    }
   ],
   "source": [
    "log_loss(testY, pred)"
   ]
  },
  {
   "cell_type": "code",
   "execution_count": 24,
   "metadata": {},
   "outputs": [],
   "source": [
    "#taking out dropout degreased precision, took recall to 100%"
   ]
  },
  {
   "cell_type": "code",
   "execution_count": 25,
   "metadata": {},
   "outputs": [],
   "source": [
    "#increasing convolution size from 3-6 increased recall, log loss around 18.7"
   ]
  },
  {
   "cell_type": "code",
   "execution_count": 26,
   "metadata": {},
   "outputs": [],
   "source": [
    "#removing max pooling decreased everything"
   ]
  },
  {
   "cell_type": "code",
   "execution_count": 27,
   "metadata": {},
   "outputs": [],
   "source": [
    "#increasing max pooling made recall 1.00"
   ]
  },
  {
   "cell_type": "code",
   "execution_count": 28,
   "metadata": {},
   "outputs": [],
   "source": [
    "#decrease batch size and first max pooling was bad"
   ]
  },
  {
   "cell_type": "code",
   "execution_count": 29,
   "metadata": {},
   "outputs": [],
   "source": [
    "#increasing batch size decreases accuracy to .75, increased epochs to 10\n",
    "#can't get val acc above 0.8175"
   ]
  },
  {
   "cell_type": "code",
   "execution_count": 30,
   "metadata": {},
   "outputs": [],
   "source": [
    "#decreasing convolution to 2 made no precision, log loss >100"
   ]
  },
  {
   "cell_type": "code",
   "execution_count": 31,
   "metadata": {},
   "outputs": [],
   "source": [
    "#increasing to 4 was good"
   ]
  },
  {
   "cell_type": "code",
   "execution_count": 32,
   "metadata": {},
   "outputs": [],
   "source": [
    "#increasing number of nodes in the layers decreased precision but increased recall"
   ]
  },
  {
   "cell_type": "code",
   "execution_count": null,
   "metadata": {},
   "outputs": [],
   "source": []
  }
 ],
 "metadata": {
  "kernelspec": {
   "display_name": "Python 3",
   "language": "python",
   "name": "python3"
  },
  "language_info": {
   "codemirror_mode": {
    "name": "ipython",
    "version": 3
   },
   "file_extension": ".py",
   "mimetype": "text/x-python",
   "name": "python",
   "nbconvert_exporter": "python",
   "pygments_lexer": "ipython3",
   "version": "3.5.5"
  }
 },
 "nbformat": 4,
 "nbformat_minor": 2
}
