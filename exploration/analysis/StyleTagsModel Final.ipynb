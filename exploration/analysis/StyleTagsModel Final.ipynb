{
 "cells": [
  {
   "cell_type": "code",
   "execution_count": 35,
   "metadata": {},
   "outputs": [],
   "source": [
    "#imports\n",
    "import pandas as pd\n",
    "import os\n",
    "import cv2\n",
    "import matplotlib.pyplot as plt\n",
    "import numpy as np\n",
    "import pickle\n",
    "\n",
    "from sklearn.metrics import classification_report\n",
    "from sklearn.metrics import log_loss\n",
    "from sklearn.metrics import precision_recall_fscore_support\n",
    "from sklearn.metrics import confusion_matrix\n",
    "\n",
    "from tensorflow.keras.models import Sequential\n",
    "from tensorflow.keras.layers import Dense\n",
    "from tensorflow.keras.losses import categorical_crossentropy\n",
    "from tensorflow.keras.optimizers import Adam\n",
    "from tensorflow.keras.layers import Dropout\n",
    "from tensorflow.keras.layers import GRU\n",
    "from tensorflow.keras.layers import Embedding\n",
    "from tensorflow.keras.layers import Flatten\n",
    "\n",
    "from sklearn.preprocessing import MultiLabelBinarizer"
   ]
  },
  {
   "cell_type": "code",
   "execution_count": 36,
   "metadata": {},
   "outputs": [],
   "source": [
    "#import X and Y data\n",
    "X = list(np.load('../data/SeasonsFullX.npy'))\n",
    "Y = list(np.load('../data/SeasonsFullY.npy'))"
   ]
  },
  {
   "cell_type": "code",
   "execution_count": 37,
   "metadata": {},
   "outputs": [],
   "source": [
    "#train test split\n",
    "from sklearn.model_selection import train_test_split\n",
    "trainX, testX, trainY, testY = train_test_split(X, Y, test_size=0.1, random_state = 3791)"
   ]
  },
  {
   "cell_type": "code",
   "execution_count": 38,
   "metadata": {},
   "outputs": [
    {
     "name": "stdout",
     "output_type": "stream",
     "text": [
      "Counter({'summer': 93121, 'spring': 62144, 'fall': 61326, 'winter': 30892})\n"
     ]
    }
   ],
   "source": [
    "#count the occurances of each tag to balance training data\n",
    "from collections import Counter\n",
    "\n",
    "#print(trainY)\n",
    "trainlist = []\n",
    "for y in trainY:\n",
    "    for word in y:\n",
    "        trainlist.append(word)\n",
    "#print(trainlist)\n",
    "c = Counter(trainlist)\n",
    "print(c)"
   ]
  },
  {
   "cell_type": "code",
   "execution_count": 39,
   "metadata": {},
   "outputs": [],
   "source": [
    "underList = ['fall','spring']"
   ]
  },
  {
   "cell_type": "code",
   "execution_count": 40,
   "metadata": {},
   "outputs": [
    {
     "name": "stdout",
     "output_type": "stream",
     "text": [
      "173891\n",
      "390037\n",
      "390037\n"
     ]
    }
   ],
   "source": [
    "length = len(trainY)\n",
    "print(length)\n",
    "for i in range(0, length):\n",
    "    for word in trainY[i]:\n",
    "        if word in underList:\n",
    "            trainY.append(trainY[i])\n",
    "            trainX.append(trainX[i])\n",
    "        if word == 'winter':\n",
    "            trainY.append(trainY[i])\n",
    "            trainX.append(trainX[i])\n",
    "            trainY.append(trainY[i])\n",
    "            trainX.append(trainX[i])\n",
    "            trainY.append(trainY[i])\n",
    "            trainX.append(trainX[i])\n",
    "\n",
    "            \n",
    "print(len(trainY))\n",
    "print(len(trainX))"
   ]
  },
  {
   "cell_type": "code",
   "execution_count": 41,
   "metadata": {},
   "outputs": [
    {
     "name": "stdout",
     "output_type": "stream",
     "text": [
      "Counter({'spring': 164376, 'fall': 162357, 'summer': 153789, 'winter': 143707})\n"
     ]
    }
   ],
   "source": [
    "trainlist = []\n",
    "for y in trainY:\n",
    "    for word in y:\n",
    "        trainlist.append(word)\n",
    "c = Counter(trainlist)\n",
    "print(c)"
   ]
  },
  {
   "cell_type": "code",
   "execution_count": 42,
   "metadata": {},
   "outputs": [],
   "source": [
    "#classes for training\n",
    "classesX100 = ['down', 'polyester', 'linen', 'pink', 'jean', 'panties', '21', 'crimson', 'mustard', 'parka', 'flare', 'oversized', 'tartan', 'boyfriend', 'feather', 'dotted', 'headband', 'eggshell', 'detail', 'biker', 'glasses', 'puce', 'turtleneck', 'sequin', 'zara', 'waist', 'pants', 'amethyst', 'ivory', 'jumpsuit', 'poncho', 'coat', 'mint', 'platform', 'teal', 'sandals', 'cream', 'gum', 'chartreuse', 'sleeves', 'sleeve', 'tawny', 'leopard', 'tweed', 'tan', 'ripped', 'creepers', 'oxfords', 'fringed', 'satin', 'cardigan', 'sweater', 'scarf', 'jumper', 'wash', 'fringe', 'platforms', 'blazer', 'chelsea', 'tulle', 'h&m', 'heel', 'dress', 'overalls', 'grey', 'glitter', 'velvet', 'oxford', 'neutral', 'coral', 'zipper', 'beret', 'shoes', 'white', 'round', 'skinny', 'snakeskin', 'bow', 'motorcycle', 'cowboy', 'blue', 'buckle', 'vintage', 'romper', 'beanie', 'pleated', 'flowers', 'cap', 'purple', 'bodycon', 'waisted', 'beaded', 'flower', 'wedge', 'peplum', 'brown', 'block', 'sheer', 'quilted', 'sweatshirt', 'black', 'blouse', 'brogues', 'flats', 'back', 'embellished', 'backpack', 'cropped', 'printed', 'tank', 'patterned', 'sequins', 't-shirt', 'striped', 'studs', 'clutch', 'tunic', 'cutout', 'jacket', 'beige', 'military', 'shift', 'ring', 'tote', 'cashmere', 'hat', 'collar', 'straw', 'lace', 'crochet', 'dye', 'earrings', 'watch', 'litas', 'aquamarine', 'asymmetrical', 'chiffon', 'corset', 'blend', 'ruffled', 'diy', 'bronze', 'wool', 'kimono', 'print', 'booties', 'fedora', 'accessory', 'lace-up', 'skater', 'stripe', 'accessories', 'stripes', 'denim', 'maroon', 'wrap', 'green', 'trench', 'periwinkle', 'gifted', 'sunglasses', 'heels', 'bracelet', 'navy', 'mini', 'knit', 'gloves', 'wedges', 'lita', 'leg', 'chain', 'yellow', 'sequined', 'toe', 'gold', 'distressed', 'intimate', 'orange', 'tee', 'bomber', 'shirt', 'magenta', 'leather', 'bag', 'silver', 'pencil', 'jeans', 'loose', 'high', 'gray', 'bra', 'mesh', 'crop', 'suede', 'strap', 'hoodie', 'neon', 'red', 'ruffle', 'shoulder', 'pumps', 'checkered', 'leggings', 'boot', 'metallic', 'swimwear', 'bustier', 'cape', 'plaid', 'skirt', 'thrifted', 'dot', 'tights', 'stockings', 'floral', 'up', 'vest', 'out', 'cotton', 'fur', 'salmon', 'satchel', 'boots', 'violet', 'style', 'jeggings', 'clogs', 'silk', 'embroidered', 'bowler', 'v-neck', 'high-waisted', 'peach', 'pattern', 'casual', 'combat', 'khaki', 'jersey', 'sneakers', 'maxi', 'nude', 'ankle', 'tie', 'knitted', 'shorts', 'loafers', 'long', 'dots', 'purse', 'suit', 'knee', 'belt', 'camel', 'socks', 'bodysuit', 'gingham', 'midi', 'neck', 'sleeveless', 'necklace', 'chambray', 'studded', 'eye']\n",
    "classesYSeasons = ['winter','spring','summer','fall']"
   ]
  },
  {
   "cell_type": "code",
   "execution_count": 43,
   "metadata": {},
   "outputs": [],
   "source": [
    "#convert to vectors using multilabel binarizer\n",
    "mlbX = MultiLabelBinarizer(classes = classesX100)\n",
    "mlbX.fit(X)\n",
    "trainX = mlbX.transform(trainX)\n",
    "testX = mlbX.transform(testX)\n",
    "\n",
    "mlbY = MultiLabelBinarizer(classes = classesYSeasons)\n",
    "mlbY.fit(Y)\n",
    "trainY = mlbY.transform(trainY)\n",
    "testY = mlbY.transform(testY)"
   ]
  },
  {
   "cell_type": "code",
   "execution_count": 44,
   "metadata": {},
   "outputs": [],
   "source": [
    "f = open('LabelbinX', 'wb')\n",
    "f.write(pickle.dumps(mlbX))\n",
    "f.close()\n",
    "\n",
    "f = open('LabelbinY', 'wb')\n",
    "f.write(pickle.dumps(mlbY))\n",
    "f.close()"
   ]
  },
  {
   "cell_type": "code",
   "execution_count": 45,
   "metadata": {},
   "outputs": [],
   "source": [
    "class_names = mlbY.classes_"
   ]
  },
  {
   "cell_type": "code",
   "execution_count": 46,
   "metadata": {},
   "outputs": [],
   "source": [
    "#make model in keras\n",
    "num_classes = len(mlbY.classes_)\n",
    "batch =1000\n",
    "epochs = 5\n",
    "vocabulary_size = len(mlbX.classes_)    \n",
    "embedding_dim = 10\n",
    "\n",
    "model = Sequential()\n",
    "\n",
    "\n",
    "model.add(Dense(32, input_shape = (len(mlbX.classes_),),activation='relu'))\n",
    "model.add(Dense(64, activation='relu'))\n",
    "model.add(Dropout(0.2))\n",
    "model.add(Dense(64, activation='relu'))\n",
    "model.add(Dense(64, activation='relu'))\n",
    "model.add(Dropout(0.2))\n",
    "model.add(Dense(64, activation='relu'))\n",
    "model.add(Dense(64, activation='relu'))\n",
    "model.add(Dropout(0.2))\n",
    "model.add(Dense(64, activation='relu'))\n",
    "model.add(Dense(128, activation='relu'))\n",
    "model.add(Dense(num_classes, activation='softmax'))\n",
    "\n",
    "trainX = trainX.astype('int64')\n",
    "trainY = trainY.astype('int64')\n",
    "testX = testX.astype('int64')\n",
    "testY = testY.astype('int64')"
   ]
  },
  {
   "cell_type": "code",
   "execution_count": 47,
   "metadata": {},
   "outputs": [
    {
     "name": "stdout",
     "output_type": "stream",
     "text": [
      "[INFO] training network...\n",
      "Train on 390037 samples, validate on 19322 samples\n",
      "Epoch 1/5\n",
      "390037/390037 [==============================] - 5s 14us/sample - loss: 0.6545 - accuracy: 0.6475 - val_loss: 0.6115 - val_accuracy: 0.6790\n",
      "Epoch 2/5\n",
      "390037/390037 [==============================] - 5s 13us/sample - loss: 0.6469 - accuracy: 0.6497 - val_loss: 0.6060 - val_accuracy: 0.6831\n",
      "Epoch 3/5\n",
      "390037/390037 [==============================] - 5s 12us/sample - loss: 0.6442 - accuracy: 0.6505 - val_loss: 0.6090 - val_accuracy: 0.6836\n",
      "Epoch 4/5\n",
      "390037/390037 [==============================] - 5s 13us/sample - loss: 0.6425 - accuracy: 0.6509 - val_loss: 0.6091 - val_accuracy: 0.6804\n",
      "Epoch 5/5\n",
      "390037/390037 [==============================] - 5s 13us/sample - loss: 0.6409 - accuracy: 0.6516 - val_loss: 0.6085 - val_accuracy: 0.6829\n"
     ]
    }
   ],
   "source": [
    "#train network\n",
    "model.compile(loss=\"binary_crossentropy\", optimizer='adam', metrics=[\"accuracy\"])\n",
    " \n",
    "# train the network\n",
    "print(\"[INFO] training network...\")\n",
    "H = model.fit(trainX, trainY, batch_size = batch,\n",
    "                        validation_data=(testX, testY),\n",
    "                        epochs=epochs, verbose=1)"
   ]
  },
  {
   "cell_type": "code",
   "execution_count": 48,
   "metadata": {},
   "outputs": [
    {
     "name": "stdout",
     "output_type": "stream",
     "text": [
      "dict_keys(['loss', 'accuracy', 'val_loss', 'val_accuracy'])\n"
     ]
    },
    {
     "data": {
      "image/png": "[encoded data removed]",
      "text/plain": [
       "<Figure size 432x288 with 1 Axes>"
      ]
     },
     "metadata": {},
     "output_type": "display_data"
    },
    {
     "data": {
      "image/png": "[encoded data removed]",
      "text/plain": [
       "<Figure size 432x288 with 1 Axes>"
      ]
     },
     "metadata": {},
     "output_type": "display_data"
    }
   ],
   "source": [
    "print(H.history.keys())\n",
    "# summarize history for accuracy\n",
    "plt.plot(H.history['accuracy'])\n",
    "plt.plot(H.history['val_accuracy'])\n",
    "plt.title('model accuracy')\n",
    "plt.ylabel('accuracy')\n",
    "plt.xlabel('epoch')\n",
    "plt.legend(['train', 'test'], loc='upper left')\n",
    "plt.show()\n",
    "# summarize history for loss\n",
    "plt.plot(H.history['loss'])\n",
    "plt.plot(H.history['val_loss'])\n",
    "plt.title('model loss')\n",
    "plt.ylabel('loss')\n",
    "plt.xlabel('epoch')\n",
    "plt.legend(['train', 'test'], loc='upper left')\n",
    "plt.show()"
   ]
  },
  {
   "cell_type": "code",
   "execution_count": 49,
   "metadata": {},
   "outputs": [
    {
     "name": "stdout",
     "output_type": "stream",
     "text": [
      "[[0.15434718 0.25839338 0.36667886 0.22058047]\n",
      " [0.16698746 0.26755223 0.32586986 0.23959045]\n",
      " [0.28381816 0.23046546 0.16642629 0.31929016]\n",
      " ...\n",
      " [0.5107079  0.12776896 0.08420927 0.27731383]\n",
      " [0.18504581 0.37778816 0.16228272 0.27488324]\n",
      " [0.13115887 0.30321565 0.3562337  0.20939174]]\n",
      "[[0 0 1 0]\n",
      " [0 0 1 0]\n",
      " [0 0 0 1]\n",
      " ...\n",
      " [1 0 0 0]\n",
      " [0 1 0 0]\n",
      " [0 0 1 0]]\n"
     ]
    }
   ],
   "source": [
    "#convert into vector with most probable result\n",
    "predictDNN = model.predict(testX)\n",
    "print(predictDNN)\n",
    "predDNN = (predictDNN == predictDNN.max(axis=1)[:,None]).astype(int)\n",
    "print(predDNN)"
   ]
  },
  {
   "cell_type": "code",
   "execution_count": 50,
   "metadata": {},
   "outputs": [
    {
     "name": "stdout",
     "output_type": "stream",
     "text": [
      "              precision    recall  f1-score   support\n",
      "\n",
      "      winter       0.33      0.40      0.36      3258\n",
      "      spring       0.37      0.28      0.32      6342\n",
      "      summer       0.65      0.47      0.55      9024\n",
      "        fall       0.42      0.28      0.34      6202\n",
      "\n",
      "   micro avg       0.47      0.36      0.41     24826\n",
      "   macro avg       0.44      0.36      0.39     24826\n",
      "weighted avg       0.48      0.36      0.41     24826\n",
      " samples avg       0.47      0.38      0.41     24826\n",
      "\n",
      "28.207322819153838\n"
     ]
    }
   ],
   "source": [
    "#classification report and log loss\n",
    "print(classification_report(testY, predDNN, target_names = class_names))\n",
    "print(log_loss(testY, predDNN))"
   ]
  },
  {
   "cell_type": "code",
   "execution_count": 51,
   "metadata": {},
   "outputs": [
    {
     "data": {
      "text/plain": [
       "array([[1312,  449,  644,  853],\n",
       "       [ 837, 1687, 2084, 1169],\n",
       "       [ 690, 1854, 3204, 1070],\n",
       "       [1147,  771,  574,  977]])"
      ]
     },
     "execution_count": 51,
     "metadata": {},
     "output_type": "execute_result"
    }
   ],
   "source": [
    "#convert into format for confusion matrix\n",
    "predDNNSingle = []\n",
    "for i in range(0, len(predDNN)):\n",
    "    predDNNSingle.append(np.argmax(predDNN[i]))\n",
    "\n",
    "testYSingle = []\n",
    "for i in range(0, len(testY)):\n",
    "    testYSingle.append(np.argmax(testY[i]))\n",
    "confusion_matrix(testYSingle, predDNNSingle)"
   ]
  },
  {
   "cell_type": "code",
   "execution_count": 53,
   "metadata": {},
   "outputs": [
    {
     "name": "stdout",
     "output_type": "stream",
     "text": [
      "Normalized confusion matrix\n",
      "[[0.4  0.14 0.2  0.26]\n",
      " [0.14 0.29 0.36 0.2 ]\n",
      " [0.1  0.27 0.47 0.16]\n",
      " [0.33 0.22 0.17 0.28]]\n"
     ]
    },
    {
     "data": {
      "image/png": "[encoded data removed]",
      "text/plain": [
       "<Figure size 432x288 with 2 Axes>"
      ]
     },
     "metadata": {},
     "output_type": "display_data"
    }
   ],
   "source": [
    "#confusion matrix plotting code from \n",
    "#https://scikit-learn.org/stable/auto_examples/model_selection/plot_confusion_matrix.html\n",
    "\n",
    "def plot_confusion_matrix(y_true, y_pred, classes,\n",
    "                          normalize=False,\n",
    "                          title=None,\n",
    "                          cmap=plt.cm.Blues):\n",
    "    \"\"\"\n",
    "    This function prints and plots the confusion matrix.\n",
    "    Normalization can be applied by setting `normalize=True`.\n",
    "    \"\"\"\n",
    "    if not title:\n",
    "        if normalize:\n",
    "            title = 'Normalized confusion matrix'\n",
    "        else:\n",
    "            title = 'Confusion matrix, without normalization'\n",
    "\n",
    "    # Compute confusion matrix\n",
    "    cm = confusion_matrix(y_true, y_pred)\n",
    "    # Only use the labels that appear in the data\n",
    "    if normalize:\n",
    "        cm = cm.astype('float') / cm.sum(axis=1)[:, np.newaxis]\n",
    "        print(\"Normalized confusion matrix\")\n",
    "    else:\n",
    "        print('Confusion matrix, without normalization')\n",
    "\n",
    "    print(cm)\n",
    "\n",
    "    fig, ax = plt.subplots()\n",
    "    im = ax.imshow(cm, interpolation='nearest', cmap=cmap)\n",
    "    ax.figure.colorbar(im, ax=ax)\n",
    "    # We want to show all ticks...\n",
    "    ax.set(xticks=np.arange(cm.shape[1]),\n",
    "           yticks=np.arange(cm.shape[0]),\n",
    "           # ... and label them with the respective list entries\n",
    "           xticklabels=classes, yticklabels=classes,\n",
    "           title=title,\n",
    "           ylabel='True label',\n",
    "           xlabel='Predicted label')\n",
    "\n",
    "    # Rotate the tick labels and set their alignment.\n",
    "    plt.setp(ax.get_xticklabels(), rotation=45, ha=\"right\",\n",
    "             rotation_mode=\"anchor\")\n",
    "\n",
    "    # Loop over data dimensions and create text annotations.\n",
    "    fmt = '.2f' if normalize else 'd'\n",
    "    thresh = cm.max() / 2.\n",
    "    for i in range(cm.shape[0]):\n",
    "        for j in range(cm.shape[1]):\n",
    "            ax.text(j, i, format(cm[i, j], fmt),\n",
    "                    ha=\"center\", va=\"center\",\n",
    "                    color=\"white\" if cm[i, j] > thresh else \"black\")\n",
    "    fig.tight_layout()\n",
    "    return ax\n",
    "\n",
    "\n",
    "np.set_printoptions(precision=2)\n",
    "\n",
    "# Plot normalized confusion matrix\n",
    "plot_confusion_matrix(testYSingle, predDNNSingle, classes=class_names, normalize=True,\n",
    "                      title='Normalized confusion matrix')\n",
    "\n",
    "plt.show()"
   ]
  },
  {
   "cell_type": "code",
   "execution_count": null,
   "metadata": {},
   "outputs": [],
   "source": []
  },
  {
   "cell_type": "code",
   "execution_count": null,
   "metadata": {},
   "outputs": [],
   "source": []
  }
 ],
 "metadata": {
  "kernelspec": {
   "display_name": "Python 3",
   "language": "python",
   "name": "python3"
  },
  "language_info": {
   "codemirror_mode": {
    "name": "ipython",
    "version": 3
   },
   "file_extension": ".py",
   "mimetype": "text/x-python",
   "name": "python",
   "nbconvert_exporter": "python",
   "pygments_lexer": "ipython3",
   "version": "3.5.5"
  }
 },
 "nbformat": 4,
 "nbformat_minor": 2
}
